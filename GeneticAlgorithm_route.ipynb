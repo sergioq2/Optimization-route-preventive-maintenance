{
 "metadata": {
  "language_info": {
   "codemirror_mode": {
    "name": "ipython",
    "version": 3
   },
   "file_extension": ".py",
   "mimetype": "text/x-python",
   "name": "python",
   "nbconvert_exporter": "python",
   "pygments_lexer": "ipython3",
   "version": "3.7.6-final"
  },
  "orig_nbformat": 2,
  "kernelspec": {
   "name": "python3",
   "display_name": "Python 3.7.6 64-bit",
   "metadata": {
    "interpreter": {
     "hash": "77f9f1fe1d5a041b876d27dcc8e2660da7714949d3cbb63481fdb4fdc0dc4274"
    }
   }
  }
 },
 "nbformat": 4,
 "nbformat_minor": 2,
 "cells": [
  {
   "cell_type": "code",
   "execution_count": 1,
   "metadata": {},
   "outputs": [],
   "source": [
    "from math      import sqrt, log\n",
    "from itertools import permutations as permutaciones\n",
    "from itertools import islice as rango\n",
    "from random    import randrange as aleatorio\n",
    "from random    import random"
   ]
  },
  {
   "cell_type": "code",
   "execution_count": 2,
   "metadata": {},
   "outputs": [],
   "source": [
    "distancias = {}"
   ]
  },
  {
   "cell_type": "code",
   "execution_count": 3,
   "metadata": {},
   "outputs": [],
   "source": [
    "def fact(n): return 1 if n < 2 else n * fact(n-1)"
   ]
  },
  {
   "cell_type": "code",
   "execution_count": 4,
   "metadata": {},
   "outputs": [],
   "source": [
    "def parserHidrantes(archivo):\n",
    "\tfcd = open(archivo,\"r\")\n",
    "\tlineas = fcd.readlines()\n",
    "\tfcd.close()\n",
    "\tciudades = []\n",
    "\tfor i, linea in enumerate (lineas):\n",
    "\t\tnums = linea.split(\" \")\n",
    "\t\tciudades.append( ciudad(i, float(nums[0]), float(nums[1])) )\n",
    "\treturn ciudades"
   ]
  },
  {
   "cell_type": "code",
   "execution_count": 5,
   "metadata": {},
   "outputs": [],
   "source": [
    "#class Hidrante:\n",
    "\n",
    "class Hidrante:\n",
    "\t#constructor de la clase\n",
    "\tdef __init__(self, id, x, y):\n",
    "\t\tself.__id = id\n",
    "\t\tself.__x = x\n",
    "\t\tself.__y = y\n",
    "\n",
    "\t#representación de una ciudad como cadena de caracteres\n",
    "\tdef __str__(self):\n",
    "\t\treturn \"%d\" % (self.__id)\n",
    "\n",
    "\t#destructor de la clase ciudad\n",
    "\tdef __del__(self):\n",
    "\t\tdel self.__id\n",
    "\t\tdel self.__x\n",
    "\t\tdel self.__y\n",
    "\n",
    "\t#devuelve el valor del id de la ciudad\n",
    "\tdef getid(self):\n",
    "\t\treturn self.__id\n",
    "\n",
    "\t#devuelve el valor de x de la ciudad\n",
    "\tdef getx(self):\n",
    "\t\treturn self.__x\n",
    "\n",
    "\t#devuelve el valor de y de la ciudad\n",
    "\tdef gety(self):\n",
    "\t\treturn self.__y"
   ]
  },
  {
   "cell_type": "code",
   "execution_count": 6,
   "metadata": {},
   "outputs": [],
   "source": [
    "class cromosoma:\n",
    "\t#constructor de la clase\n",
    "\tdef __init__(self, ciudades = []):\n",
    "\t\tself.__ciudades = list(ciudades)\n",
    "\n",
    "\n",
    "\t#copia un cromosoma.\n",
    "\tdef copy( self ):\n",
    "\t\treturn cromosoma( self.getciudades())\n",
    "\n",
    "\t#destructor de la clase cromosoma\n",
    "\tdef __del__(self):\n",
    "\t\twhile self.__ciudades:\n",
    "\t\t\tciudad = self.__ciudades.pop()\n",
    "\t\t\tdel ciudad\n",
    "\n",
    "\t#devuelve el valor de una ciudad\n",
    "\tdef getciudades(self):\n",
    "\t\treturn self.__ciudades\n",
    "\n",
    "\t#representación como cadena de caracteres del cromosoma\n",
    "\tdef __str__(self):\n",
    "\t\ts  = \"[\"\n",
    "\t\tfor ciudad in self.getciudades() :\n",
    "\t\t\ts += \" %s,\" % (str(ciudad))\n",
    "\t\ts +=\" %2s ]\" % (self.getciudades()[0])\n",
    "\t\treturn s\n"
   ]
  },
  {
   "cell_type": "code",
   "execution_count": 7,
   "metadata": {},
   "outputs": [],
   "source": [
    "\tdef distancia(self, cd1, cd2):\n",
    "\t\ta,b = (cd1, cd2) if cd1.getid() < cd2.getid() else (cd2, cd1)\n",
    "\t\tkey = \"%d-%d\" % (a.getid(),b.getid())\n",
    "\t\tif distancias.has_key(key):\n",
    "\t\t\tdist= distancias[key]\n",
    "\t\telse:\n",
    "\t\t\tx= b.getx() - a.getx()\n",
    "\t\t\ty= b.gety() - a.gety()\n",
    "\t\t\tdist= sqrt(x**2 + y**2)\n",
    "\t\t\tdistancias[key]= dist\n",
    "\t\treturn dist"
   ]
  },
  {
   "cell_type": "code",
   "execution_count": 9,
   "metadata": {},
   "outputs": [],
   "source": [
    "#Método que calcula la aptitud asociada a un cromosoma.\n",
    "#Método que calcula la distancia total de un recorrido de ciudades.\n",
    "def aptitud( self ):\n",
    "\tapt = 0\n",
    "\torig= self.getciudades()\n",
    "\tdest= list(orig)\n",
    "\ttmp= dest.pop(0)\n",
    "\tdest.append(tmp)\n",
    "\tfor a,b in zip(orig,dest):\n",
    "\t\tapt += self.distancia(a,b)\n",
    "\treturn apt\n",
    "\n",
    "#Método para comparar dos cromosomas.\n",
    "def __cmp__(self, otro):\n",
    "\treturn int(self.aptitud() - otro.aptitu())"
   ]
  },
  {
   "cell_type": "code",
   "execution_count": 10,
   "metadata": {},
   "outputs": [],
   "source": [
    "#Método para encontrar la posición de una ciudad en la lista.\n",
    "def index( self, nodo ):\n",
    "\treturn self.___ciudades.index(nodo)\n",
    "\n"
   ]
  },
  {
   "cell_type": "code",
   "execution_count": 11,
   "metadata": {},
   "outputs": [],
   "source": [
    "#Método que implementa la cruza de dos cromosomas.#Cruzamiento por ciclos\n",
    "def cruzar(self, otro):\n",
    "\tp1, p2 = self.getciudades(), otro.getciudades()\n",
    "\th1, h2 = list(p2), list(p1)\n",
    "\tidx = [0]\n",
    "\ti = 0\n",
    "\tcont = True\n",
    "\twhile cont:\n",
    "\t\tciudad = p2[i]\n",
    "\t\ti = p1.index(ciudad)\n",
    "\t\tidx.append(i)\n",
    "\t\tcont = not p1[0] is p2[i]\n",
    "\n",
    "\tfor i in idx:\n",
    "\t\th1[i], h2[i] = h2[i], h1[i]\n",
    "\n",
    "\treturn cromosoma(h1), cromosoma(h2)"
   ]
  },
  {
   "cell_type": "code",
   "execution_count": 12,
   "metadata": {},
   "outputs": [],
   "source": [
    "#Método con el que un cromosoma muta.\n",
    "#Mutación por inversión.\n",
    "def mutar(self):\n",
    "\tlista = self.getciudades()\n",
    "\tmitad = len(lista)/2\n",
    "\tini = aleatorio(0, mitad)\n",
    "\tfin = aleatorio(mitad, len(lista))\n",
    "\ta, b, c = lista[0:ini], lista[ini:fin], lista[fin:]\n",
    "\tb.reverse()\n",
    "\tdel self.__ciudades\n",
    "\tself.__ciudades = a + b + c\n",
    "\tdel a\n",
    "\tdel b\n",
    "\tdel c"
   ]
  },
  {
   "cell_type": "code",
   "execution_count": 13,
   "metadata": {},
   "outputs": [],
   "source": [
    "#Método que ordena la población de mejor aptitud a peor aptitud.\n",
    "def sort( self ):\n",
    "\tself.__ciudades.sort()"
   ]
  },
  {
   "cell_type": "code",
   "execution_count": 14,
   "metadata": {},
   "outputs": [],
   "source": [
    "#Método que calcula la desvión estándar.\n",
    "def desvestandar(poblacion =[]):\n",
    "\ttam = len(poblacion)\n",
    "\taptitudes = map(cromosoma.aptitud, poblacion)\n",
    "\txprom = sum(aptitudes)/tam\n",
    "\tdesvs = sqrt(sum(map(lambda x: (x-xprom)**2, aptitudes))/ (tam - 1))\n",
    "\treturn desvs, xprom"
   ]
  },
  {
   "cell_type": "code",
   "execution_count": 15,
   "metadata": {},
   "outputs": [],
   "source": [
    "#Invoca el método de mutación para algunos individuos de la población con\n",
    "#cierta probabilidad.\n",
    "def mutarpop( pop, pmuta ):\n",
    "\tfor p in pop:\n",
    "\t\tif pmuta > random():\n",
    "\t\t\tp.mutar()"
   ]
  },
  {
   "cell_type": "code",
   "execution_count": 16,
   "metadata": {},
   "outputs": [],
   "source": [
    "#Cruza los individuos de la población para obtener cromosomas nuevos que\n",
    "#posteriormente se integrarán a la población en la siguiente generación.\n",
    "def cruzarpob( pob, pcruza ):\n",
    "\tpadres = list( pob )\n",
    "\thijos = list()\n",
    "\n",
    "\tif len(padres) % 2:\n",
    "\t\tif random() > 0.5:\n",
    "\t\t\tpadres.pop( aleatorio(0, len(padres)))\n",
    "\t\telse:\n",
    "\t\t\tpadres.append( padres[aleatorio(0, len(padres))] )\n",
    "\n",
    "\twhile padres:\n",
    "\t\ta = padres.pop(aleatorio(0,len(padres)))\n",
    "\t\tb = padres.pop(aleatorio(0,len(padres)))\n",
    "\n",
    "\t\tif pcruza > random() :\n",
    "\t\t\thijos.extend( a.cruzar(b) )\n",
    "\n",
    "\treturn hijos"
   ]
  },
  {
   "cell_type": "code",
   "execution_count": 17,
   "metadata": {},
   "outputs": [],
   "source": [
    "#Genera la población inicial.\n",
    "#Seleccionando fin-ini permutaciones aleatorias del espacio de soluciones.\n",
    "def generapob( ciudades, pob):\n",
    "\ts     = list()\n",
    "\tperms = permutaciones(ciudades)\n",
    "\tfin   = aleatorio( pob, fact( len(ciudades) ) )\n",
    "\tini   = fin - pob\n",
    "\n",
    "\tSigma = list(rango(perms, pob))\n",
    "\n",
    "\tfor sigma in Sigma:\n",
    "\t\tk = list(sigma)\n",
    "\t\ts.append(cromosoma(k))\n",
    "\n",
    "\tfor k in range(2):\n",
    "\t\tmutarpop(s,1.0)\n",
    "\n",
    "\treturn s\n"
   ]
  },
  {
   "cell_type": "code",
   "execution_count": 18,
   "metadata": {},
   "outputs": [],
   "source": [
    "#Genera una representación como cadena de caracteres de un conjunto de\n",
    "#soluciones.\n",
    "def imprimepob( pob ):\n",
    "\tn      = int( log( len(pob),10) + 1 )\n",
    "\ts      = \" | %\" + str(n) + \"d | %s | %f\\n\"\n",
    "\tedge= \" +\" + (n + 2) * \"-\" + \"+\" + (len(str(pob[0])) + 2) * \"-\" + \"+\\n\"\n",
    "\tstrpob = edge\n",
    "\tfor i, p in enumerate(pob):\n",
    "\t\tstrpob += s % (i+1,str(p), p.aptitud() )\n",
    "\n",
    "\treturn strpob + edge"
   ]
  },
  {
   "cell_type": "code",
   "execution_count": 19,
   "metadata": {},
   "outputs": [],
   "source": [
    "#selecciona\n",
    "def selecciona(poblacion, pobtam):\n",
    "\tp = list(poblacion)\n",
    "\tp.sort()\n",
    "\treturn p[:pobtam]"
   ]
  },
  {
   "cell_type": "code",
   "execution_count": 21,
   "metadata": {},
   "outputs": [],
   "source": [
    "#selecciona una nueva población utilizando el método de ordenamiento exponencial.\n",
    "def seleccionOE(poblacion = []):\n",
    "    poblacion.sort()\n",
    "    s, prom = desvestandar(poblacion)\n",
    "    n = len(poblacion)\n",
    "    prob = lambda r: (1-s)/(1-s**n)*(s**(r-1))\n",
    "    probabilidades = map(prob, range(n))\n",
    "    probacumulada  = 0\n",
    "    pacumuladas    = []\n",
    "    elegidos       = []\n",
    "    pobtam = 20\n",
    "\n",
    "    for probabilidad in probabilidades:\n",
    "        probacumulada += probabilidad\n",
    "    pacumuladas.append(probacumulada)\n",
    "    print(\"*\" *50 ,probacumulada)\n",
    "\n",
    "    for k in range(len(poblacion)):\n",
    "        cota = random()\n",
    "        i = 0\n",
    "        while i < len(pacumuladas) and pacumuladas[i] < cota :\n",
    "            i += 1\n",
    "        elegidos.append( poblacion[i] )\n",
    "\n",
    "    return elegidos[:pobtam]"
   ]
  },
  {
   "cell_type": "code",
   "execution_count": 22,
   "metadata": {},
   "outputs": [],
   "source": [
    "#Método de selección por torneo.\n",
    "def selecciont(poblacion, tampob):\n",
    "\tselec = list()\n",
    "\tfor k in [1,2]:\n",
    "\t\tparticipantes = list(poblacion)\n",
    "\t\tif len(participantes)%2 ==1:\n",
    "\t\t\tif k==1:\n",
    "\t\t\t\tparticipantes.pop(aleatorio(0, len(participantes)))\n",
    "\t\t\telse:\n",
    "\t\t\t\tparticipantes.append(participantes[aleatorio(0, len(participantes))])\n",
    "\t\twhile participantes:\n",
    "\t\t\ta= participantes.pop(aleatorio(0, len(participantes)))\n",
    "\t\t\tb= participantes.pop(aleatorio(0, len(participantes)))\n",
    "\t\t\tganador= a if a<b else b\n",
    "\t\t\tselec.append(ganador)\n",
    "\tselec.sort()\n",
    "\treturn selec[:tampob]"
   ]
  },
  {
   "cell_type": "code",
   "execution_count": 24,
   "metadata": {},
   "outputs": [],
   "source": [
    "#Implementación de un algoritmo genético para resolver el problema del agente\n",
    "#viajero.\n",
    "def genetico(ciudades, pobtam, pcruza, pmuta, iteraciones ):\n",
    "\tpoblacion = generapob(ciudades, pobtam)\n",
    "\tprint(imprimepob(poblacion))\n",
    "\tmejores = list()\n",
    "\tpoblacion.sort()\n",
    "\tprint(\"Poblacion ordenada\")\n",
    "\tprint(imprimepob(poblacion))\n",
    "\tmejor = poblacion[0]\n",
    "\tmejores.append(mejor.copy())\n",
    "\tselec = selecciont(poblacion, pobtam)\n",
    "\tcontinua = True\n",
    "\ti = 1\n",
    "\twhile continua and i < iteraciones:\n",
    "\t\tprint(i), \") comenzando iteracion\"\n",
    "\t\ti+=1\n",
    "\t\tprint(imprimepob(selec))\n",
    "\t\thijos = cruzarpob(selec, pcruza)\n",
    "\t\tselec.extend(hijos)\n",
    "\t\tmutarpop(selec, pmuta)\n",
    "\t\tselec = selecciont(selec, pobtam)\n",
    "\t\tselec.sort()\n",
    "\t\tmejores.append(selec[0].copy())\n",
    "\t\tif(len(mejores)>1):\n",
    "\t\t\taux=list(mejores)\n",
    "\t\t\taux.sort()\n",
    "\t\t\tn=aux.count(aux[0])\n",
    "\t\t\tif(len(mejores)>=10 and n>len(aux)/2):\n",
    "\t\t\t\tcontinua= False\n",
    "\tmejores.sort()\n",
    "\n",
    "\tprint(\"Los mejores individuos en todas las iteraciones:\")\n",
    "\tprint(imprimepob(mejores))\n",
    "\treturn mejores[0]"
   ]
  },
  {
   "cell_type": "code",
   "execution_count": 25,
   "metadata": {},
   "outputs": [],
   "source": [
    "#Método que guarda las coordenadas de las ciudades recorridas, en un archivo\n",
    "#ordenadas de acuerdo al recorrido óptimo.\n",
    "def guardaCoordenadas( optimo, rutaArchivo ):\n",
    "\tarchivo   = open( rutaArchivo, \"w\" )\n",
    "\tcontenido = \"\"\n",
    "\tfor ciudad in optimo.getciudades():\n",
    "\t\tcontenido += \"%f %f\\n\" % (ciudad.getx(), ciudad.gety())\n",
    "\tarchivo.write(contenido)\n",
    "\n",
    "\tarchivo.close()"
   ]
  },
  {
   "cell_type": "code",
   "execution_count": 28,
   "metadata": {},
   "outputs": [],
   "source": [
    "def main():\n",
    "\tciudades = parserCiudades(\"‪C:\\Analitica\\coordenadasHidrantesSur.txt\")\n",
    "\tpobtam = 40\n",
    "\tpcruza = 0.9\n",
    "\tpmuta = 0.5\n",
    "\titeraciones = 200\n",
    "\toptimo = genetico(ciudades, pobtam, pcruza, pmuta, iteraciones )\n",
    "\tprint(\"Mejor solución encontrada:\")\n",
    "\tprint(optimo, \"-- Con un costo de\", optimo.aptitud(), \"unidades.\")\n",
    "\tguardaCoordenadas( optimo, \"recorrido-optimo.data\" )"
   ]
  },
  {
   "cell_type": "code",
   "execution_count": null,
   "metadata": {},
   "outputs": [],
   "source": []
  }
 ]
}